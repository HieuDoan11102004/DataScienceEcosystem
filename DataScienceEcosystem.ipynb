{
 "cells": [
  {
   "cell_type": "markdown",
   "id": "a1e57b4d-9bde-49a4-8164-27fff2bee618",
   "metadata": {},
   "source": [
    "# Data Science Tools and Ecosystem\n"
   ]
  },
  {
   "cell_type": "markdown",
   "id": "417223b1-ea53-4993-9cfd-388bcb2a6e96",
   "metadata": {},
   "source": [
    "In this notebook, Data Science Tools and Ecosystem are summarized."
   ]
  },
  {
   "cell_type": "markdown",
   "id": "0c80623e-6f62-46bd-a94c-3091461187f3",
   "metadata": {},
   "source": [
    "Some of the popular languages that Data Scientists use are:"
   ]
  },
  {
   "cell_type": "markdown",
   "id": "2f2ef3e8-3fdb-4e02-94c2-ee7236a2c404",
   "metadata": {},
   "source": [
    "1. Python\n",
    "2. R\n",
    "3. Scala"
   ]
  },
  {
   "cell_type": "markdown",
   "id": "caab0652-63c0-4485-a027-962fd4a067de",
   "metadata": {},
   "source": [
    "Some of the commonly used libraries used by Data Scientists include:"
   ]
  },
  {
   "cell_type": "markdown",
   "id": "cfaaf74e-1231-4d9e-99d3-f49a2afacd9f",
   "metadata": {},
   "source": [
    "1. Pandas\n",
    "2. Sklearn\n",
    "3. Matplotlib"
   ]
  },
  {
   "cell_type": "markdown",
   "id": "0c19e8d8-55cd-44a3-86c1-75505c07d165",
   "metadata": {},
   "source": [
    "| Data Science Tools |\n",
    "| :---- |\n",
    "| Tableau |\n",
    "| Apache Spark |\n",
    "| Power BI |"
   ]
  },
  {
   "cell_type": "markdown",
   "id": "bcab53a0-ce3a-415b-9791-22f1b859673f",
   "metadata": {},
   "source": [
    "### Below are a few examples of evaluating arithmetic expressions in Python"
   ]
  },
  {
   "cell_type": "markdown",
   "id": "60bb6089-d9e4-4cd7-9e6a-971055a9dd65",
   "metadata": {},
   "source": [
    "*This a simple arithmetic expression to mutiply then add integers*"
   ]
  },
  {
   "cell_type": "code",
   "execution_count": 35,
   "id": "2052af60-282d-4f0e-9622-3fc6c6226823",
   "metadata": {},
   "outputs": [
    {
     "data": {
      "text/plain": [
       "17"
      ]
     },
     "execution_count": 35,
     "metadata": {},
     "output_type": "execute_result"
    }
   ],
   "source": [
    "(3*4)+5"
   ]
  },
  {
   "cell_type": "markdown",
   "id": "5adbf042-05da-4af5-a397-63e8a9b49c58",
   "metadata": {},
   "source": [
    "*This will convert 200 minutes to hours by diving by 60*"
   ]
  },
  {
   "cell_type": "code",
   "execution_count": 38,
   "id": "5b236ae0-027b-46e5-9bc8-ccaa15f4d21e",
   "metadata": {},
   "outputs": [
    {
     "data": {
      "text/plain": [
       "3.3333333333333335"
      ]
     },
     "execution_count": 38,
     "metadata": {},
     "output_type": "execute_result"
    }
   ],
   "source": [
    "200 / 60"
   ]
  },
  {
   "cell_type": "markdown",
   "id": "c67df189-cfd4-436a-b6aa-bce58400ebee",
   "metadata": {},
   "source": [
    "Objectives:"
   ]
  },
  {
   "cell_type": "markdown",
   "id": "66e8db3a-150b-46c5-8d01-892df62ca4a6",
   "metadata": {},
   "source": [
    "* List popular languages for Data Science\n",
    "* List popular libraries for Data Science\n",
    "* List popular tools for Data Science"
   ]
  },
  {
   "cell_type": "markdown",
   "id": "35eb44fd-61e3-46cb-81b3-eb124807f656",
   "metadata": {},
   "source": [
    "## Author"
   ]
  },
  {
   "cell_type": "markdown",
   "id": "5013cc86-ae95-42b6-b3f8-710585b20de7",
   "metadata": {},
   "source": [
    "DOAN TRUNG HIEU"
   ]
  }
 ],
 "metadata": {
  "kernelspec": {
   "display_name": "Python 3 (ipykernel)",
   "language": "python",
   "name": "python3"
  },
  "language_info": {
   "codemirror_mode": {
    "name": "ipython",
    "version": 3
   },
   "file_extension": ".py",
   "mimetype": "text/x-python",
   "name": "python",
   "nbconvert_exporter": "python",
   "pygments_lexer": "ipython3",
   "version": "3.12.4"
  }
 },
 "nbformat": 4,
 "nbformat_minor": 5
}
